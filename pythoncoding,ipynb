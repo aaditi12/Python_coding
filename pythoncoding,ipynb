Q1. Python program to find Factorial of a number 

Solution:- 
#In the below approach, the factorial program takes input from the user as an integer and assigns it to the variable n. 
#It then initializes the variable factorial to 1. 
#If n is greater than or equal to 1, 
#it enters a for loop that iterates from 1 to n (inclusive) 
#and multiplies factorial by each value of i in the loop.
Code

n = int (input ("Enter a number: "))
factorial = 1
if n >= 1:
    for i in range (1, n+1):
        factorial=factorial *i
print("Factorial of the given number is: ", factorial)

Test cases with expected output:-
Enter a number: 5
Factorial of the given number is:  120
Enter a number: 4
Factorial of the given number is:  24
Enter a number: 7
Factorial of the given number is:  5040
Enter a number: 8
Factorial of the given number is:  40320
Enter a number: 9
Factorial of the given number is:  362880

Q2  Fibonacci series
Solution:-  Code
def fibonacci(n):                               
    if(n<=1):
        return n
    else:
        return(fibonacci(n-1) + fibonacci(n-2))
n=int(input("Enter number of terms:"))
print("Fibonacci sequence:")
for i in range(n):
    print(fibonacci(i))

Test cases with expected output:-
Enter number of terms:5
Fibonacci sequence:
0
1
1
2
3

Enter number of terms:7
Fibonacci sequence:
0
1
1
2
3
5
8

Enter number of terms:8
Fibonacci sequence:
0
1
1
2
3
5
8
13

Enter number of terms:4
Fibonacci sequence:
0
1
1
2

Enter number of terms:6
Fibonacci sequence:
0
1
1
2
3
5

Q3 Write a python program to find the GCD of a number
Solution:-  Code
def gcd(a,b):
    if(b==0):
        return a
    else:
        return gcd(b,a%b)
a=int(input("Enter first number."))
b=int(input("Enter second number."))

output=gcd(a,b)
print("Greatest Common Divisor is:")
print(output)

Test cases with expected output:-
Enter first number.9
Enter second number.8
Greatest Common Divisor is:
1
Enter first number.15
Enter second number.25
Greatest Common Divisor is:
5
Enter first number.45
Enter second number.15
Greatest Common Divisor is:
15
Enter first number.4
Enter second number.9
Greatest Common Divisor is:
1
Enter first number.5
Enter second number.95
Greatest Common Divisor is:
5

Q4 Write a Python program to map two lists into a dictionary.
Solution:-
Code
keys = ['red', 'green', 'blue']
values = ['#FF0000','#008000', '#0000FF']
color_dictionary = dict(zip(keys, values))
print(color_dictionary)

Test cases with expected output:-
{'red': '#FF0000', 'green': '#008000', 'blue': '#0000FF'}

Q5 Full Pyramid or triangle pyramid
Solution:- 
Code
num_rows=int(input("Enter the number of rows"));
for i in range(0,num_rows):
    for j in range(0, num_rows-i-1):
        print(end=" ")
    for j in range(0, i+1):
        print("*", end=" ")
    print()

Test cases with expected output:
Enter the number of rows 5
    * 
   * * 
  * * * 
 * * * * 
* * * * * 
Enter the number of rows 8
       * 
      * * 
     * * * 
    * * * * 
   * * * * * 
  * * * * * * 
 * * * * * * * 
* * * * * * * * 
Enter the number of rows 9
        * 
       * * 
      * * * 
     * * * * 
    * * * * * 
   * * * * * * 
  * * * * * * * 
 * * * * * * * * 
* * * * * * * * * 
Enter the number of rows 4
   * 
  * * 
 * * * 
* * * * 
Enter the number of rows12
           * 
          * * 
         * * * 
        * * * * 
       * * * * * 
      * * * * * * 
     * * * * * * * 
    * * * * * * * * 
   * * * * * * * * * 
  * * * * * * * * * * 
 * * * * * * * * * * * 
* * * * * * * * * * * * 

Q6 Let's learn some new Python concepts! You have to generate a list of the first  fibonacci numbers,  being the first number. Then, apply the map function and a lambda expression to cube each fibonacci number and print the list.

Concept

The map() function applies a function to every member of an iterable and returns the result. It takes two parameters: first, the function that is to be applied and secondly, the iterables.
Let's say you are given a list of names, and you have to print a list that contains the length of each name.

>> print (list(map(len, ['Tina', 'Raj', 'Tom'])))  
[4, 3, 3]  
Lambda is a single expression anonymous function often used as an inline function. In simple words, it is a function that has only one line in its body. It proves very handy in functional and GUI programming.

>> sum = lambda a, b, c: a + b + c
>> sum(1, 2, 3)
6
Note:

Lambda functions cannot use the return statement and can only have a single expression. Unlike def, which creates a function and assigns it a name, lambda creates a function and returns the function itself. Lambda can be used inside lists and dictionaries.

Input Format

One line of input: an integer .

Constraints


Output Format

A list on a single line containing the cubes of the first  fibonacci numbers.

Sample Input

5
Sample Output

[0, 1, 1, 8, 27]
Explanation

The first  fibonacci numbers are [0,1,1,2,3] , and their cubes are [0,1,1,8,27].

Solution:-  
Code
# Lambda function to find the cube of function 
cube = lambda x: pow(x,3)
def fibonacci(n):
    # return a list of fibonacci numbers
    lis = [0,1]
    
    # for loop starting from 2
    for i in range(2,n):
        lis.append(lis[i-2] + lis[i-1])
    return(lis[0:n])

if __name__ == '__main__':
    n = int(input())
    print(list(map(cube, fibonacci(n))))

Test cases with expected output:
case1- 
6
[0, 1, 1, 8, 27, 125]
case2-
7
[0, 1, 1, 8, 27, 125, 512]
case3-
8
[0, 1, 1, 8, 27, 125, 512, 2197]
case4-
4
[0, 1, 1, 8]
case5-
5
[0, 1, 1, 8, 27]

Q7 Python Program to Check if a String is Palindrome or Not
Solution:- 
Code 
# function which return reverse of a string
def isPalindrome(s):
    return s == s[::-1]
s = "malayalam"
ans = isPalindrome(s)
if ans:
    print("Yes")
else:
    print("No")

Test cases with expected output 1:
Yes

Code
def isPalindrome(s):
    return s == s[::-1]
s = "Ans"
ans = isPalindrome(s)
if ans:
    print("Yes")
else:
    print("No")

Test cases with expected output 2:
No

Q8 write a python program to check whether given number is prime or not
Solution:-
Code
# taking input from user
number = int(input("Enter any number: "))

# prime number is always greater than 1
if number > 1:
    for i in range(2, number):
        if (number % i) == 0:
            print(number, "is not a prime number")
            break
    else:
        print(number, "is a prime number")

# if the entered number is less than or equal to 1
# then it is not prime number
else:
    print(number, "is not a prime number")

Test cases with expected output 
Enter any number: 5
5 is a prime number
Enter any number: 6
6 is not a prime number

Q9 Find the list with maximum and minimum length using lambda
Solution:-
Code
def max_length_list(input_list):
    max_length = max(len(x) for x in input_list )   
    max_list = max(input_list, key = lambda i: len(i))    
    return(max_length, max_list)
    
def min_length_list(input_list):
    min_length = min(len(x) for x in input_list )  
    min_list = min(input_list, key = lambda i: len(i))
    return(min_length, min_list)
      
list1 = [[0], [1, 3], [5, 7], [9, 11], [13, 15, 17]]
print("Original list:")
print(list1)
print("\nList with maximum length of lists:")
print(max_length_list(list1))
print("\nList with minimum length of lists:")
print(min_length_list(list1))

Test cases with expected output1
Original list:
[[0], [1, 3], [5, 7], [9, 11], [13, 15, 17]]

List with maximum length of lists:
(3, [13, 15, 17])

List with minimum length of lists:
(1, [0])
​
Code
def max_length_list(input_list):
    max_length = max(len(x) for x in input_list )   
    max_list = max(input_list, key = lambda i: len(i))    
    return(max_length, max_list)
    
def min_length_list(input_list):
    min_length = min(len(x) for x in input_list )  
    min_list = min(input_list, key = lambda i: len(i))
    return(min_length, min_list)
      
list1 = [[1], [2, 4], [6, 8], [10, 12], [14, 16, 18]]
print("Original list:")
print(list1)
print("\nList with maximum length of lists:")
print(max_length_list(list1))
print("\nList with minimum length of lists:")
print(min_length_list(list1))

Test cases with expected output2
Original list:
[[1], [2, 4], [6, 8], [10, 12], [14, 16, 18]]

List with maximum length of lists:
(3, [14, 16, 18])

List with minimum length of lists:
(1, [1])
​
Q10 Count the number of even and odd numbers in a tuple 
Solution:-
Code
def count_even_odd(tup):
    even_count=sum(1 for x in tup if x%2==0)
    odd_count=len(tup)-even_count
    return even_count, odd_count
tup=(1,2,3,4,5,6,7,8,9)
even,odd= count_even_odd(tup)
print("Even:", even)
print("Odd:", odd)

Test cases with expected output1
Even: 4
Odd: 5

Code
def count_even_odd(tup):
    even_count=sum(1 for x in tup if x%2==0)
    odd_count=len(tup)-even_count
    return even_count, odd_count
tup=(2,2,2,4,4,6,8,8,6)
even,odd= count_even_odd(tup)
print("Even:", even)
print("Odd:", odd)

Test cases with expected output2
Even: 9
Odd: 0





